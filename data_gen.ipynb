{
 "cells": [
  {
   "cell_type": "code",
   "execution_count": 1,
   "metadata": {},
   "outputs": [],
   "source": [
    "import spacy\n",
    "import random\n",
    "import string\n",
    "import pickle\n",
    "import pandas as pd"
   ]
  },
  {
   "cell_type": "code",
   "execution_count": null,
   "metadata": {},
   "outputs": [],
   "source": []
  },
  {
   "cell_type": "code",
   "execution_count": 2,
   "metadata": {},
   "outputs": [],
   "source": [
    "# Function to generate random company names\n",
    "def generate_company_name():\n",
    "    prefixes = [\"American\", \"National\", \"United\", \"Global\", \"Premier\", \"Allied\", \"Federal\", \"Secure\", \"Trusted\", \"Medicare\", \"Nationwide\", \"Statewide\", \"Integrated\", \"Consolidated\", \"Universal\", \"Affordable\", \"Reliable\", \"Dependable\", \"Honest\", \"Ethical\", \"Progressive\", \"Liberty\", \"Patriot\", \"Freedom\", \"Elite\", \"Superior\", \"Advantage\", \"Pinnacle\", \"Summit\", \"Apex\"]\n",
    "    suffixes = [\"Insurance\", \"Health\", \"Auto\", \"Life\", \"Mortgage\", \"Loans\", \"Banking\", \"Finance\", \"Solutions\", \"Services\", \"Associates\", \"Group\", \"Partners\", \"Advisors\", \"Consultants\", \"Specialists\", \"Providers\", \"Brokers\", \"Managers\", \"Planners\", \"Analysts\", \"Experts\", \"Strategies\", \"Technologies\", \"Systems\", \"Resources\", \"Capital\", \"Investments\", \"Wealth\", \"Security\"]\n",
    "    prefix = random.choice(prefixes)\n",
    "    suffix = random.choice(suffixes)\n",
    "    company_name = f\"{prefix} {suffix}\"\n",
    "    return company_name\n"
   ]
  },
  {
   "cell_type": "code",
   "execution_count": 6,
   "metadata": {},
   "outputs": [],
   "source": [
    "# Function to generate synthetic data\n",
    "def generate_synthetic_data(num_samples=1000):\n",
    "    data = []\n",
    "    for _ in range(num_samples):\n",
    "        company_name = generate_company_name()\n",
    "        template = f\"By submitting Yes, I consent to have a representative from {company_name} contact me at this number: I understand these calls may be generated using an automated dialer and that my consent is not required as a precondition for purchasing or receiving any property, goods or service.\"\n",
    "        data.append([template, company_name])\n",
    "    df = pd.DataFrame(data, columns=['Text', 'CompanyName'])\n",
    "    return df\n"
   ]
  },
  {
   "cell_type": "code",
   "execution_count": 7,
   "metadata": {},
   "outputs": [],
   "source": [
    "# Generate 10,000 synthetic samples\n",
    "synthetic_data_df = generate_synthetic_data(num_samples=10000)\n",
    "\n"
   ]
  },
  {
   "cell_type": "code",
   "execution_count": 8,
   "metadata": {},
   "outputs": [],
   "source": [
    "# Save the DataFrame to a CSV file\n",
    "synthetic_data_df.to_csv(\"synthetic_data.csv\", index=False)"
   ]
  },
  {
   "cell_type": "code",
   "execution_count": null,
   "metadata": {},
   "outputs": [],
   "source": []
  }
 ],
 "metadata": {
  "kernelspec": {
   "display_name": "langchain",
   "language": "python",
   "name": "python3"
  },
  "language_info": {
   "codemirror_mode": {
    "name": "ipython",
    "version": 3
   },
   "file_extension": ".py",
   "mimetype": "text/x-python",
   "name": "python",
   "nbconvert_exporter": "python",
   "pygments_lexer": "ipython3",
   "version": "3.9.18"
  }
 },
 "nbformat": 4,
 "nbformat_minor": 2
}
